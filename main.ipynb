{
 "cells": [
  {
   "cell_type": "markdown",
   "id": "1cfd3c4b",
   "metadata": {},
   "source": [
    "# Introduction"
   ]
  },
  {
   "cell_type": "markdown",
   "id": "61ab5237",
   "metadata": {},
   "source": [
    "For this project, I will be training a convolutional neural network (CNN) to predict whether an image of a pet is a dog or a cat. The dataset used is the Oxford-IIIT Pet Dataset which can be found here: https://www.robots.ox.ac.uk/~vgg/data/pets/."
   ]
  },
  {
   "cell_type": "markdown",
   "id": "3a247eea",
   "metadata": {},
   "source": [
    "# EDA and Cleaning"
   ]
  },
  {
   "cell_type": "markdown",
   "id": "72d44b1e",
   "metadata": {},
   "source": [
    "Below I load the data labels and perform some basic analysis and cleaning. There are $3,680$ labels available for images in the train set and $3,669$ labels available for images in the test set (I am using the split provided by the authors of the dataset). However, $6$ of the images cannot be loaded, and a further $35$ appear to be missing corresponding entries in the .txt files. These images will not be included in my analysis.\n",
    "\n",
    "I am loading and processing the images using the OpenCV library. The images are in color so they will have $3$ channels for RGB. I am also resizing the images to $100$ by $100$ pixels to have consistent dimensions for CNN."
   ]
  },
  {
   "cell_type": "code",
   "execution_count": 1,
   "id": "cdc77dfc",
   "metadata": {},
   "outputs": [
    {
     "name": "stdout",
     "output_type": "stream",
     "text": [
      "<class 'pandas.core.frame.DataFrame'>\n",
      "RangeIndex: 3679 entries, 0 to 3678\n",
      "Data columns (total 4 columns):\n",
      " #   Column          Non-Null Count  Dtype \n",
      "---  ------          --------------  ----- \n",
      " 0   Abyssinian_100  3679 non-null   object\n",
      " 1   1               3679 non-null   int64 \n",
      " 2   1.1             3679 non-null   int64 \n",
      " 3   1.2             3679 non-null   int64 \n",
      "dtypes: int64(3), object(1)\n",
      "memory usage: 115.1+ KB\n"
     ]
    }
   ],
   "source": [
    "import pandas as pd\n",
    "\n",
    "train_labels = pd.read_table('datasets/pet/annotations/trainval.txt', delimiter=' ')\n",
    "\n",
    "train_labels.info()\n",
    "\n",
    "train_labels.rename(columns={'Abyssinian_100' : 'ImageID', '1' : 'ClassID', '1.1' : 'Species', '1.2' : 'BreedID'}, inplace=True)"
   ]
  },
  {
   "cell_type": "code",
   "execution_count": 2,
   "id": "3991649c",
   "metadata": {},
   "outputs": [],
   "source": [
    "firstrow = pd.DataFrame({'ImageID' : ['Abyssinian_100'], 'ClassID' : [1], 'Species' : [1], 'BreedID': [1]})\n",
    "train_labels = pd.concat([firstrow, train_labels])"
   ]
  },
  {
   "cell_type": "code",
   "execution_count": 3,
   "id": "286b7065",
   "metadata": {},
   "outputs": [
    {
     "name": "stdout",
     "output_type": "stream",
     "text": [
      "                    ImageID  ClassID  Species  BreedID\n",
      "1894           abyssinian_1        1        0        1\n",
      "9             abyssinian_10        1        0        1\n",
      "0            abyssinian_100        1        0        1\n",
      "0            abyssinian_101        1        0        1\n",
      "1            abyssinian_102        1        0        1\n",
      "...                     ...      ...      ...      ...\n",
      "3673  yorkshire_terrier_186       37        1       25\n",
      "3674  yorkshire_terrier_187       37        1       25\n",
      "3675  yorkshire_terrier_188       37        1       25\n",
      "3676  yorkshire_terrier_189       37        1       25\n",
      "3678  yorkshire_terrier_190       37        1       25\n",
      "\n",
      "[3680 rows x 4 columns]\n"
     ]
    }
   ],
   "source": [
    "for i in range(3680):\n",
    "    train_labels.iloc[i,0] = train_labels.iloc[i,0].lower()\n",
    "    train_labels.iloc[i,2] -= 1\n",
    "train_labels.sort_values(by=['ImageID'], inplace=True)\n",
    "print(train_labels)"
   ]
  },
  {
   "cell_type": "code",
   "execution_count": 4,
   "id": "06d763d9",
   "metadata": {},
   "outputs": [
    {
     "name": "stdout",
     "output_type": "stream",
     "text": [
      "                   ImageID  ClassID  Species  BreedID\n",
      "29            abyssinian_2        1        0        1\n",
      "5            abyssinian_20        1        0        1\n",
      "0           abyssinian_201        1        0        1\n",
      "0           abyssinian_202        1        0        1\n",
      "1           abyssinian_204        1        0        1\n",
      "...                    ...      ...      ...      ...\n",
      "3662  yorkshire_terrier_95       37        1       25\n",
      "3663  yorkshire_terrier_96       37        1       25\n",
      "3664  yorkshire_terrier_97       37        1       25\n",
      "3665  yorkshire_terrier_98       37        1       25\n",
      "3666  yorkshire_terrier_99       37        1       25\n",
      "\n",
      "[3669 rows x 4 columns]\n"
     ]
    }
   ],
   "source": [
    "test_labels = pd.read_table('datasets/pet/annotations/test.txt', delimiter=' ')\n",
    "\n",
    "test_labels.rename(columns={'Abyssinian_201' : 'ImageID', '1' : 'ClassID', '1.1' : 'Species', '1.2' : 'BreedID'}, inplace=True)\n",
    "\n",
    "firstrow = pd.DataFrame({'ImageID' : ['Abyssinian_201'], 'ClassID' : [1], 'Species' : [1], 'BreedID': [1]})\n",
    "test_labels = pd.concat([firstrow, test_labels])\n",
    "\n",
    "for i in range(len(test_labels)):\n",
    "    test_labels.iloc[i,0] = test_labels.iloc[i,0].lower()\n",
    "    test_labels.iloc[i,2] -= 1\n",
    "test_labels.sort_values(by=['ImageID'], inplace=True)\n",
    "print(test_labels)"
   ]
  },
  {
   "cell_type": "code",
   "execution_count": 5,
   "id": "fdee9993",
   "metadata": {},
   "outputs": [
    {
     "name": "stdout",
     "output_type": "stream",
     "text": [
      "Abyssinian_34.jpg\n",
      "no img\n",
      "Abyssinian_82.jpg\n",
      "not in either txt file\n",
      "Bombay_11.jpg\n",
      "not in either txt file\n",
      "Bombay_189.jpg\n",
      "not in either txt file\n",
      "Bombay_190.jpg\n",
      "not in either txt file\n",
      "Bombay_192.jpg\n",
      "not in either txt file\n",
      "Bombay_203.jpg\n",
      "not in either txt file\n",
      "Bombay_206.jpg\n",
      "not in either txt file\n",
      "Bombay_209.jpg\n",
      "not in either txt file\n",
      "Bombay_210.jpg\n",
      "not in either txt file\n",
      "Bombay_217.jpg\n",
      "not in either txt file\n",
      "Bombay_22.jpg\n",
      "not in either txt file\n",
      "Bombay_220.jpg\n",
      "not in either txt file\n",
      "Bombay_32.jpg\n",
      "not in either txt file\n",
      "Bombay_69.jpg\n",
      "not in either txt file\n",
      "Bombay_85.jpg\n",
      "not in either txt file\n",
      "Bombay_92.jpg\n",
      "not in either txt file\n",
      "Bombay_99.jpg\n",
      "not in either txt file\n",
      "boxer_82.jpg\n",
      "not in either txt file\n",
      "Egyptian_Mau_129.jpg\n",
      "not in either txt file\n",
      "Egyptian_Mau_139.jpg\n",
      "no img\n",
      "Egyptian_Mau_145.jpg\n",
      "no img\n",
      "Egyptian_Mau_167.jpg\n",
      "no img\n",
      "Egyptian_Mau_177.jpg\n",
      "no img\n",
      "Egyptian_Mau_183.jpg\n",
      "not in either txt file\n",
      "Egyptian_Mau_191.jpg\n",
      "no img\n",
      "Egyptian_Mau_202.jpg\n",
      "not in either txt file\n",
      "Egyptian_Mau_41.jpg\n",
      "not in either txt file\n",
      "Egyptian_Mau_71.jpg\n",
      "not in either txt file\n",
      "english_cocker_spaniel_162.jpg\n",
      "not in either txt file\n",
      "english_cocker_spaniel_163.jpg\n",
      "not in either txt file\n",
      "english_cocker_spaniel_164.jpg\n",
      "not in either txt file\n",
      "english_cocker_spaniel_179.jpg\n",
      "not in either txt file\n",
      "keeshond_59.jpg\n",
      "not in either txt file\n",
      "newfoundland_152.jpg\n",
      "not in either txt file\n",
      "newfoundland_153.jpg\n",
      "not in either txt file\n",
      "newfoundland_154.jpg\n",
      "not in either txt file\n",
      "newfoundland_155.jpg\n",
      "not in either txt file\n",
      "Siamese_203.jpg\n",
      "not in either txt file\n",
      "staffordshire_bull_terrier_2.jpg\n",
      "not in either txt file\n",
      "staffordshire_bull_terrier_22.jpg\n",
      "not in either txt file\n",
      "103\n",
      "114\n"
     ]
    }
   ],
   "source": [
    "import cv2\n",
    "import numpy as np\n",
    "import os\n",
    "\n",
    "divider = lambda t: t / 255\n",
    "vfunc = np.vectorize(divider)\n",
    "\n",
    "directory = 'datasets/pet/images'\n",
    "\n",
    "\n",
    "X_train = []\n",
    "X_test = []\n",
    "\n",
    "n=0\n",
    "m=0\n",
    "x=[]\n",
    "y=[]\n",
    "for i, filename in enumerate(os.listdir(directory)):\n",
    "    #if m==1000:\n",
    "    #    break\n",
    "    f = os.path.join(directory, filename)\n",
    "\n",
    "    if os.path.isfile(f):\n",
    "        #print(i)\n",
    "        img = cv2.imread(f)\n",
    "        #print(img.shape)\n",
    "        \n",
    "        \n",
    "        try:\n",
    "            x.append(img.shape[0])\n",
    "            y.append(img.shape[1])\n",
    "            img_scaled = cv2.resize(img, (150,150))\n",
    "            \n",
    "            pix = np.array(img_scaled)\n",
    "            pix = pix.astype('float32')\n",
    "            pix = vfunc(pix)\n",
    "            #print(filename[:-4])\n",
    "            #print(pix.shape)\n",
    "            \n",
    "            if n < 3680:\n",
    "                if filename[:-4].lower() == train_labels.iloc[n,0]:\n",
    "                    X_train.append(pix)\n",
    "                    #print('train')\n",
    "                    n += 1\n",
    "                elif filename[:-4].lower() == test_labels.iloc[m,0]:\n",
    "                    X_test.append(pix)\n",
    "                    #print('test')\n",
    "                    m+=1\n",
    "                else:\n",
    "                    print(filename)\n",
    "                    print(\"not in either txt file\")\n",
    "            else:\n",
    "                X_test.append(pix)\n",
    "                m+=1\n",
    "                #print('test')\n",
    "        except:\n",
    "            print(filename)\n",
    "            print(\"no img\")\n",
    "        \n",
    "    else:\n",
    "        print('no file')\n",
    "print(min(x))\n",
    "print(min(y))"
   ]
  },
  {
   "cell_type": "code",
   "execution_count": 6,
   "id": "b78f9f91",
   "metadata": {},
   "outputs": [
    {
     "name": "stdout",
     "output_type": "stream",
     "text": [
      "3680\n",
      "3669\n"
     ]
    }
   ],
   "source": [
    "print(len(X_train))\n",
    "print(len(X_test))"
   ]
  },
  {
   "cell_type": "markdown",
   "id": "28fe9c82",
   "metadata": {},
   "source": [
    "# Model training"
   ]
  },
  {
   "cell_type": "markdown",
   "id": "fc07ffcf",
   "metadata": {},
   "source": [
    "Below the model architecture can be found. There will be $3$ convolutional layers with max pooling layers. I will be using LeakyReLU for activation functions, and a sigmoid activation function at the end, as is appropriate for a binary classfication problem. The batch size will initially be $64$ and I will train for $20$ epochs."
   ]
  },
  {
   "cell_type": "code",
   "execution_count": 7,
   "id": "1676608c",
   "metadata": {},
   "outputs": [],
   "source": [
    "import keras\n",
    "from keras.models import Sequential, Model\n",
    "from keras.layers import Input,InputLayer,Dense, Dropout, Flatten, Conv2D, MaxPooling2D, BatchNormalization, LeakyReLU\n",
    "\n",
    "batch_size = 256\n",
    "epochs = 80\n",
    "num_classes = 1"
   ]
  },
  {
   "cell_type": "code",
   "execution_count": 8,
   "id": "81a83979",
   "metadata": {},
   "outputs": [],
   "source": [
    "model = Sequential()\n",
    "model.add(Conv2D(32, kernel_size=(3, 3),activation='linear', input_shape=(150, 150, 3), padding='same'))\n",
    "model.add(LeakyReLU(alpha=0.1))\n",
    "model.add(MaxPooling2D((2, 2),padding='same'))\n",
    "model.add(Dropout(0.5))\n",
    "model.add(Conv2D(64, (3, 3), activation='linear',padding='same'))\n",
    "model.add(LeakyReLU(alpha=0.1))\n",
    "model.add(MaxPooling2D(pool_size=(2, 2),padding='same'))\n",
    "model.add(Dropout(0.5))\n",
    "model.add(Conv2D(128, (3, 3), activation='linear',padding='same'))\n",
    "model.add(LeakyReLU(alpha=0.1))                  \n",
    "model.add(MaxPooling2D(pool_size=(2, 2),padding='same'))\n",
    "model.add(Dropout(0.5))\n",
    "model.add(Flatten())\n",
    "model.add(Dense(128, activation='linear'))\n",
    "model.add(LeakyReLU(alpha=0.1))     \n",
    "model.add(Dropout(0.8))\n",
    "model.add(Dense(num_classes, activation='sigmoid'))"
   ]
  },
  {
   "cell_type": "code",
   "execution_count": 9,
   "id": "cb90b88b",
   "metadata": {},
   "outputs": [],
   "source": [
    "model.compile(loss=keras.losses.binary_crossentropy, optimizer=keras.optimizers.Adam(learning_rate=0.005),metrics=['accuracy'])"
   ]
  },
  {
   "cell_type": "code",
   "execution_count": 10,
   "id": "69ed4fb0",
   "metadata": {},
   "outputs": [],
   "source": [
    "import tensorflow as tf"
   ]
  },
  {
   "cell_type": "code",
   "execution_count": 11,
   "id": "9766d7bd",
   "metadata": {},
   "outputs": [
    {
     "name": "stdout",
     "output_type": "stream",
     "text": [
      "Virtual devices cannot be modified after being initialized\n"
     ]
    }
   ],
   "source": [
    "gpus = tf.config.list_physical_devices('GPU')\n",
    "if gpus:\n",
    "  # Restrict TensorFlow to only allocate 1GB of memory on the first GPU\n",
    "  try:\n",
    "    tf.config.set_logical_device_configuration(\n",
    "        gpus[0],\n",
    "        [tf.config.LogicalDeviceConfiguration(memory_limit=1024)])\n",
    "    logical_gpus = tf.config.list_logical_devices('GPU')\n",
    "    print(len(gpus), \"Physical GPUs,\", len(logical_gpus), \"Logical GPUs\")\n",
    "  except RuntimeError as e:\n",
    "    # Virtual devices must be set before GPUs have been initialized\n",
    "    print(e)\n"
   ]
  },
  {
   "cell_type": "code",
   "execution_count": 12,
   "id": "09c6d209",
   "metadata": {},
   "outputs": [
    {
     "name": "stdout",
     "output_type": "stream",
     "text": [
      "1894    0\n",
      "9       0\n",
      "0       0\n",
      "0       0\n",
      "1       0\n",
      "       ..\n",
      "3673    1\n",
      "3674    1\n",
      "3675    1\n",
      "3676    1\n",
      "3678    1\n",
      "Name: Species, Length: 3680, dtype: int64\n"
     ]
    }
   ],
   "source": [
    "labels = train_labels['Species']\n",
    "#labels_part = labels_part[0:500]\n",
    "'''labels_a = np.array(labels_part)\n",
    "labels_a = labels_part.astype('int64')\n",
    "species_label_t = tf.constant(labels_a)\n",
    "print(species_label_t)'''\n",
    "print(labels)"
   ]
  },
  {
   "cell_type": "code",
   "execution_count": 13,
   "id": "3b97331a",
   "metadata": {},
   "outputs": [],
   "source": [
    "from sklearn.model_selection import train_test_split\n",
    "\n",
    "X_train_part,valid_X,labels_part,valid_label = train_test_split(X_train, labels, test_size=0.2, random_state=4)"
   ]
  },
  {
   "cell_type": "code",
   "execution_count": 14,
   "id": "b7dc73d3",
   "metadata": {},
   "outputs": [],
   "source": [
    "X_train_t = tf.constant(X_train_part)\n",
    "valid_X_t = tf.constant(valid_X)"
   ]
  },
  {
   "cell_type": "code",
   "execution_count": 15,
   "id": "7a43eb24",
   "metadata": {},
   "outputs": [],
   "source": [
    "#print(X_train_t.shape)"
   ]
  },
  {
   "cell_type": "code",
   "execution_count": null,
   "id": "37cdf10b",
   "metadata": {},
   "outputs": [],
   "source": []
  },
  {
   "cell_type": "code",
   "execution_count": 16,
   "id": "a735bc24",
   "metadata": {},
   "outputs": [
    {
     "name": "stdout",
     "output_type": "stream",
     "text": [
      "Epoch 1/80\n",
      "12/12 [==============================] - 10s 352ms/step - loss: 3.7281 - accuracy: 0.5336 - val_loss: 1.3928 - val_accuracy: 0.3166\n",
      "Epoch 2/80\n",
      "12/12 [==============================] - 2s 191ms/step - loss: 0.9175 - accuracy: 0.5754 - val_loss: 0.7937 - val_accuracy: 0.6834\n",
      "Epoch 3/80\n",
      "12/12 [==============================] - 2s 192ms/step - loss: 0.6984 - accuracy: 0.6287 - val_loss: 1.1287 - val_accuracy: 0.6834\n",
      "Epoch 4/80\n",
      "12/12 [==============================] - 2s 195ms/step - loss: 0.6799 - accuracy: 0.6165 - val_loss: 1.5273 - val_accuracy: 0.6834\n",
      "Epoch 5/80\n",
      "12/12 [==============================] - 2s 192ms/step - loss: 0.6522 - accuracy: 0.6610 - val_loss: 0.6320 - val_accuracy: 0.6834\n",
      "Epoch 6/80\n",
      "12/12 [==============================] - 2s 193ms/step - loss: 0.6379 - accuracy: 0.6712 - val_loss: 0.9588 - val_accuracy: 0.6834\n",
      "Epoch 7/80\n",
      "12/12 [==============================] - 2s 194ms/step - loss: 0.6289 - accuracy: 0.6766 - val_loss: 1.6268 - val_accuracy: 0.6834\n",
      "Epoch 8/80\n",
      "12/12 [==============================] - 2s 194ms/step - loss: 0.6319 - accuracy: 0.6675 - val_loss: 2.8186 - val_accuracy: 0.6834\n",
      "Epoch 9/80\n",
      "12/12 [==============================] - 2s 194ms/step - loss: 0.6183 - accuracy: 0.6698 - val_loss: 2.0470 - val_accuracy: 0.6834\n",
      "Epoch 10/80\n",
      "12/12 [==============================] - 2s 197ms/step - loss: 0.6257 - accuracy: 0.6787 - val_loss: 0.6140 - val_accuracy: 0.6834\n",
      "Epoch 11/80\n",
      "12/12 [==============================] - 2s 195ms/step - loss: 0.6321 - accuracy: 0.6726 - val_loss: 0.7417 - val_accuracy: 0.6834\n",
      "Epoch 12/80\n",
      "12/12 [==============================] - 2s 203ms/step - loss: 0.6165 - accuracy: 0.6739 - val_loss: 3.9290 - val_accuracy: 0.6834\n",
      "Epoch 13/80\n",
      "12/12 [==============================] - 2s 210ms/step - loss: 0.6345 - accuracy: 0.6678 - val_loss: 0.6202 - val_accuracy: 0.6834\n",
      "Epoch 14/80\n",
      "12/12 [==============================] - 3s 211ms/step - loss: 0.6399 - accuracy: 0.6753 - val_loss: 0.6199 - val_accuracy: 0.6848\n",
      "Epoch 15/80\n",
      "12/12 [==============================] - 2s 198ms/step - loss: 0.6300 - accuracy: 0.6766 - val_loss: 0.6111 - val_accuracy: 0.6848\n",
      "Epoch 16/80\n",
      "12/12 [==============================] - 2s 190ms/step - loss: 0.6144 - accuracy: 0.6814 - val_loss: 0.9927 - val_accuracy: 0.6834\n",
      "Epoch 17/80\n",
      "12/12 [==============================] - 2s 194ms/step - loss: 0.6222 - accuracy: 0.6658 - val_loss: 0.6101 - val_accuracy: 0.6848\n",
      "Epoch 18/80\n",
      "12/12 [==============================] - 2s 195ms/step - loss: 0.6077 - accuracy: 0.6760 - val_loss: 0.6900 - val_accuracy: 0.6834\n",
      "Epoch 19/80\n",
      "12/12 [==============================] - 2s 190ms/step - loss: 0.6080 - accuracy: 0.6804 - val_loss: 0.8907 - val_accuracy: 0.6834\n",
      "Epoch 20/80\n",
      "12/12 [==============================] - 2s 197ms/step - loss: 0.5996 - accuracy: 0.6858 - val_loss: 1.2068 - val_accuracy: 0.6834\n",
      "Epoch 21/80\n",
      "12/12 [==============================] - 2s 194ms/step - loss: 0.6017 - accuracy: 0.6872 - val_loss: 0.6296 - val_accuracy: 0.6848\n",
      "Epoch 22/80\n",
      "12/12 [==============================] - 2s 194ms/step - loss: 0.5966 - accuracy: 0.6899 - val_loss: 0.6352 - val_accuracy: 0.6902\n",
      "Epoch 23/80\n",
      "12/12 [==============================] - 2s 197ms/step - loss: 0.5864 - accuracy: 0.6946 - val_loss: 1.1789 - val_accuracy: 0.6848\n",
      "Epoch 24/80\n",
      "12/12 [==============================] - 2s 192ms/step - loss: 0.6214 - accuracy: 0.6766 - val_loss: 0.6019 - val_accuracy: 0.6834\n",
      "Epoch 25/80\n",
      "12/12 [==============================] - 2s 192ms/step - loss: 0.6027 - accuracy: 0.6855 - val_loss: 0.5958 - val_accuracy: 0.7024\n",
      "Epoch 26/80\n",
      "12/12 [==============================] - 2s 193ms/step - loss: 0.6008 - accuracy: 0.6957 - val_loss: 0.6184 - val_accuracy: 0.6889\n",
      "Epoch 27/80\n",
      "12/12 [==============================] - 2s 195ms/step - loss: 0.5956 - accuracy: 0.6868 - val_loss: 0.6424 - val_accuracy: 0.6264\n",
      "Epoch 28/80\n",
      "12/12 [==============================] - 2s 200ms/step - loss: 0.5790 - accuracy: 0.6912 - val_loss: 0.6408 - val_accuracy: 0.6522\n",
      "Epoch 29/80\n",
      "12/12 [==============================] - 2s 203ms/step - loss: 0.5649 - accuracy: 0.7089 - val_loss: 0.6763 - val_accuracy: 0.6250\n",
      "Epoch 30/80\n",
      "12/12 [==============================] - 2s 195ms/step - loss: 0.5638 - accuracy: 0.7208 - val_loss: 0.6299 - val_accuracy: 0.6590\n",
      "Epoch 31/80\n",
      "12/12 [==============================] - 2s 193ms/step - loss: 0.5489 - accuracy: 0.7157 - val_loss: 0.5868 - val_accuracy: 0.6929\n",
      "Epoch 32/80\n",
      "12/12 [==============================] - 2s 197ms/step - loss: 0.5484 - accuracy: 0.7330 - val_loss: 0.7144 - val_accuracy: 0.6304\n",
      "Epoch 33/80\n",
      "12/12 [==============================] - 2s 196ms/step - loss: 0.5406 - accuracy: 0.7351 - val_loss: 0.5740 - val_accuracy: 0.6943\n",
      "Epoch 34/80\n",
      "12/12 [==============================] - 2s 191ms/step - loss: 0.5332 - accuracy: 0.7323 - val_loss: 1.0707 - val_accuracy: 0.5054\n",
      "Epoch 35/80\n",
      "12/12 [==============================] - 2s 195ms/step - loss: 0.5135 - accuracy: 0.7395 - val_loss: 0.7173 - val_accuracy: 0.6929\n",
      "Epoch 36/80\n",
      "12/12 [==============================] - 2s 193ms/step - loss: 0.5068 - accuracy: 0.7575 - val_loss: 0.7248 - val_accuracy: 0.5788\n",
      "Epoch 37/80\n",
      "12/12 [==============================] - 2s 195ms/step - loss: 0.5122 - accuracy: 0.7463 - val_loss: 0.8232 - val_accuracy: 0.5883\n",
      "Epoch 38/80\n",
      "12/12 [==============================] - 2s 194ms/step - loss: 0.4841 - accuracy: 0.7653 - val_loss: 0.5675 - val_accuracy: 0.7052\n",
      "Epoch 39/80\n",
      "12/12 [==============================] - 2s 193ms/step - loss: 0.5170 - accuracy: 0.7497 - val_loss: 0.6461 - val_accuracy: 0.7201\n",
      "Epoch 40/80\n",
      "12/12 [==============================] - 2s 193ms/step - loss: 0.4943 - accuracy: 0.7527 - val_loss: 0.6794 - val_accuracy: 0.6712\n",
      "Epoch 41/80\n",
      "12/12 [==============================] - 2s 193ms/step - loss: 0.4734 - accuracy: 0.7833 - val_loss: 0.5349 - val_accuracy: 0.7255\n",
      "Epoch 42/80\n",
      "12/12 [==============================] - 2s 194ms/step - loss: 0.4704 - accuracy: 0.7762 - val_loss: 0.5594 - val_accuracy: 0.7364\n",
      "Epoch 43/80\n",
      "12/12 [==============================] - 2s 194ms/step - loss: 0.4472 - accuracy: 0.7925 - val_loss: 0.7110 - val_accuracy: 0.6997\n",
      "Epoch 44/80\n",
      "12/12 [==============================] - 2s 192ms/step - loss: 0.4299 - accuracy: 0.7989 - val_loss: 0.7381 - val_accuracy: 0.6848\n",
      "Epoch 45/80\n",
      "12/12 [==============================] - 2s 192ms/step - loss: 0.4327 - accuracy: 0.8105 - val_loss: 0.9502 - val_accuracy: 0.6372\n",
      "Epoch 46/80\n",
      "12/12 [==============================] - 2s 196ms/step - loss: 0.4400 - accuracy: 0.7959 - val_loss: 0.5903 - val_accuracy: 0.7351\n",
      "Epoch 47/80\n",
      "12/12 [==============================] - 2s 193ms/step - loss: 0.4065 - accuracy: 0.8105 - val_loss: 0.6396 - val_accuracy: 0.7188\n",
      "Epoch 48/80\n",
      "12/12 [==============================] - 2s 190ms/step - loss: 0.4036 - accuracy: 0.8220 - val_loss: 0.8730 - val_accuracy: 0.6929\n",
      "Epoch 49/80\n",
      "12/12 [==============================] - 2s 198ms/step - loss: 0.3971 - accuracy: 0.8200 - val_loss: 0.6901 - val_accuracy: 0.6957\n",
      "Epoch 50/80\n",
      "12/12 [==============================] - 2s 192ms/step - loss: 0.3641 - accuracy: 0.8349 - val_loss: 0.7667 - val_accuracy: 0.6848\n",
      "Epoch 51/80\n",
      "12/12 [==============================] - 2s 191ms/step - loss: 0.3589 - accuracy: 0.8458 - val_loss: 0.8358 - val_accuracy: 0.6997\n",
      "Epoch 52/80\n",
      "12/12 [==============================] - 2s 192ms/step - loss: 0.3493 - accuracy: 0.8485 - val_loss: 0.6860 - val_accuracy: 0.7255\n",
      "Epoch 53/80\n",
      "12/12 [==============================] - 2s 192ms/step - loss: 0.3745 - accuracy: 0.8346 - val_loss: 0.6292 - val_accuracy: 0.7052\n",
      "Epoch 54/80\n",
      "12/12 [==============================] - 2s 191ms/step - loss: 0.3537 - accuracy: 0.8471 - val_loss: 1.0737 - val_accuracy: 0.6576\n",
      "Epoch 55/80\n",
      "12/12 [==============================] - 2s 192ms/step - loss: 0.3549 - accuracy: 0.8441 - val_loss: 0.8626 - val_accuracy: 0.6916\n",
      "Epoch 56/80\n",
      "12/12 [==============================] - 2s 193ms/step - loss: 0.3333 - accuracy: 0.8539 - val_loss: 0.7603 - val_accuracy: 0.7038\n",
      "Epoch 57/80\n",
      "12/12 [==============================] - 2s 194ms/step - loss: 0.3587 - accuracy: 0.8471 - val_loss: 0.6233 - val_accuracy: 0.7459\n",
      "Epoch 58/80\n"
     ]
    },
    {
     "name": "stdout",
     "output_type": "stream",
     "text": [
      "12/12 [==============================] - 2s 192ms/step - loss: 0.3383 - accuracy: 0.8526 - val_loss: 0.9630 - val_accuracy: 0.6304\n",
      "Epoch 59/80\n",
      "12/12 [==============================] - 2s 192ms/step - loss: 0.3204 - accuracy: 0.8621 - val_loss: 0.9008 - val_accuracy: 0.7351\n",
      "Epoch 60/80\n",
      "12/12 [==============================] - 2s 192ms/step - loss: 0.3151 - accuracy: 0.8658 - val_loss: 0.6777 - val_accuracy: 0.7337\n",
      "Epoch 61/80\n",
      "12/12 [==============================] - 2s 191ms/step - loss: 0.3100 - accuracy: 0.8692 - val_loss: 0.7751 - val_accuracy: 0.6943\n",
      "Epoch 62/80\n",
      "12/12 [==============================] - 2s 191ms/step - loss: 0.3068 - accuracy: 0.8740 - val_loss: 0.6825 - val_accuracy: 0.7228\n",
      "Epoch 63/80\n",
      "12/12 [==============================] - 2s 193ms/step - loss: 0.2986 - accuracy: 0.8713 - val_loss: 0.7945 - val_accuracy: 0.6970\n",
      "Epoch 64/80\n",
      "12/12 [==============================] - 2s 192ms/step - loss: 0.2716 - accuracy: 0.8903 - val_loss: 0.7464 - val_accuracy: 0.7364\n",
      "Epoch 65/80\n",
      "12/12 [==============================] - 2s 191ms/step - loss: 0.2718 - accuracy: 0.8855 - val_loss: 0.8479 - val_accuracy: 0.7147\n",
      "Epoch 66/80\n",
      "12/12 [==============================] - 2s 194ms/step - loss: 0.2748 - accuracy: 0.8872 - val_loss: 0.9789 - val_accuracy: 0.7052\n",
      "Epoch 67/80\n",
      "12/12 [==============================] - 2s 195ms/step - loss: 0.2568 - accuracy: 0.8886 - val_loss: 0.7757 - val_accuracy: 0.7269\n",
      "Epoch 68/80\n",
      "12/12 [==============================] - 2s 191ms/step - loss: 0.2559 - accuracy: 0.8920 - val_loss: 0.8764 - val_accuracy: 0.7296\n",
      "Epoch 69/80\n",
      "12/12 [==============================] - 2s 192ms/step - loss: 0.2454 - accuracy: 0.8937 - val_loss: 0.9868 - val_accuracy: 0.7201\n",
      "Epoch 70/80\n",
      "12/12 [==============================] - 2s 191ms/step - loss: 0.2722 - accuracy: 0.8872 - val_loss: 0.8162 - val_accuracy: 0.7147\n",
      "Epoch 71/80\n",
      "12/12 [==============================] - 2s 193ms/step - loss: 0.2588 - accuracy: 0.8920 - val_loss: 0.9658 - val_accuracy: 0.6984\n",
      "Epoch 72/80\n",
      "12/12 [==============================] - 2s 191ms/step - loss: 0.2932 - accuracy: 0.8787 - val_loss: 1.0511 - val_accuracy: 0.7092\n",
      "Epoch 73/80\n",
      "12/12 [==============================] - 2s 192ms/step - loss: 0.2395 - accuracy: 0.9035 - val_loss: 0.7975 - val_accuracy: 0.7310\n",
      "Epoch 74/80\n",
      "12/12 [==============================] - 2s 192ms/step - loss: 0.2446 - accuracy: 0.9015 - val_loss: 0.8098 - val_accuracy: 0.7378\n",
      "Epoch 75/80\n",
      "12/12 [==============================] - 2s 191ms/step - loss: 0.2272 - accuracy: 0.9076 - val_loss: 0.9902 - val_accuracy: 0.7296\n",
      "Epoch 76/80\n",
      "12/12 [==============================] - 2s 191ms/step - loss: 0.2222 - accuracy: 0.9117 - val_loss: 0.7395 - val_accuracy: 0.7459\n",
      "Epoch 77/80\n",
      "12/12 [==============================] - 2s 193ms/step - loss: 0.2449 - accuracy: 0.9052 - val_loss: 0.7921 - val_accuracy: 0.7296\n",
      "Epoch 78/80\n",
      "12/12 [==============================] - 2s 193ms/step - loss: 0.2235 - accuracy: 0.9107 - val_loss: 0.7156 - val_accuracy: 0.7364\n",
      "Epoch 79/80\n",
      "12/12 [==============================] - 2s 193ms/step - loss: 0.2131 - accuracy: 0.9083 - val_loss: 0.9224 - val_accuracy: 0.7120\n",
      "Epoch 80/80\n",
      "12/12 [==============================] - 2s 185ms/step - loss: 0.2271 - accuracy: 0.9073 - val_loss: 0.8242 - val_accuracy: 0.7391\n"
     ]
    }
   ],
   "source": [
    "train = model.fit(X_train_t, labels_part, batch_size=batch_size, epochs=epochs,verbose=1,validation_data=(valid_X_t, valid_label))"
   ]
  },
  {
   "cell_type": "code",
   "execution_count": 17,
   "id": "f9fce560",
   "metadata": {},
   "outputs": [
    {
     "name": "stdout",
     "output_type": "stream",
     "text": [
      "dict_keys(['loss', 'accuracy', 'val_loss', 'val_accuracy'])\n"
     ]
    }
   ],
   "source": [
    "print(train.history.keys())"
   ]
  },
  {
   "cell_type": "code",
   "execution_count": 18,
   "id": "5ff3144d",
   "metadata": {},
   "outputs": [
    {
     "data": {
      "image/png": "[encoded data removed]",
      "text/plain": [
       "<Figure size 432x288 with 1 Axes>"
      ]
     },
     "metadata": {
      "needs_background": "light"
     },
     "output_type": "display_data"
    },
    {
     "data": {
      "image/png": "[encoded data removed]",
      "text/plain": [
       "<Figure size 432x288 with 1 Axes>"
      ]
     },
     "metadata": {
      "needs_background": "light"
     },
     "output_type": "display_data"
    }
   ],
   "source": [
    "import matplotlib.pyplot as plt\n",
    "\n",
    "accuracy = train.history['accuracy']\n",
    "val_accuracy = train.history['val_accuracy']\n",
    "loss = train.history['loss']\n",
    "val_loss = train.history['val_loss']\n",
    "epochs = range(len(accuracy))\n",
    "plt.plot(epochs, accuracy, 'bo', label='Training accuracy')\n",
    "plt.plot(epochs, val_accuracy, 'b', label='Validation accuracy')\n",
    "plt.title('Training and validation accuracy')\n",
    "plt.legend()\n",
    "plt.figure()\n",
    "plt.plot(epochs, loss, 'bo', label='Training loss')\n",
    "plt.plot(epochs, val_loss, 'b', label='Validation loss')\n",
    "plt.title('Training and validation loss')\n",
    "plt.legend()\n",
    "plt.show()"
   ]
  },
  {
   "cell_type": "code",
   "execution_count": 19,
   "id": "f6049b7e",
   "metadata": {},
   "outputs": [],
   "source": [
    "X_test_t = tf.constant(X_test)"
   ]
  },
  {
   "cell_type": "code",
   "execution_count": 20,
   "id": "433200e6",
   "metadata": {},
   "outputs": [
    {
     "name": "stdout",
     "output_type": "stream",
     "text": [
      "115/115 [==============================] - 2s 11ms/step\n"
     ]
    }
   ],
   "source": [
    "ypred = model.predict(X_test_t)"
   ]
  },
  {
   "cell_type": "code",
   "execution_count": 21,
   "id": "791b3265",
   "metadata": {},
   "outputs": [],
   "source": [
    "for i, p in enumerate(ypred):\n",
    "    if p > 0.5:\n",
    "        ypred[i] = 1\n",
    "    else:\n",
    "        ypred[i] = 0"
   ]
  },
  {
   "cell_type": "code",
   "execution_count": 22,
   "id": "791bfee7",
   "metadata": {},
   "outputs": [],
   "source": [
    "from sklearn.metrics import accuracy_score, confusion_matrix\n",
    "\n",
    "\n",
    "#test_labels_part = test_labels['Species'][0:499]\n",
    "#print(test_labels_part)"
   ]
  },
  {
   "cell_type": "code",
   "execution_count": 23,
   "id": "ae192c09",
   "metadata": {},
   "outputs": [
    {
     "name": "stdout",
     "output_type": "stream",
     "text": [
      "0.7833197056418643\n"
     ]
    }
   ],
   "source": [
    "print(accuracy_score(test_labels['Species'], ypred))"
   ]
  },
  {
   "cell_type": "code",
   "execution_count": 24,
   "id": "145b48ac",
   "metadata": {},
   "outputs": [
    {
     "data": {
      "text/plain": [
       "array([[ 671,  512],\n",
       "       [ 283, 2203]], dtype=int64)"
      ]
     },
     "execution_count": 24,
     "metadata": {},
     "output_type": "execute_result"
    }
   ],
   "source": [
    "confusion_matrix(test_labels['Species'], ypred)"
   ]
  },
  {
   "cell_type": "code",
   "execution_count": 26,
   "id": "b9d52241",
   "metadata": {},
   "outputs": [
    {
     "name": "stderr",
     "output_type": "stream",
     "text": [
      "No handles with labels found to put in legend.\n"
     ]
    },
    {
     "data": {
      "image/png": "[encoded data removed]",
      "text/plain": [
       "<Figure size 432x288 with 1 Axes>"
      ]
     },
     "metadata": {
      "needs_background": "light"
     },
     "output_type": "display_data"
    },
    {
     "data": {
      "text/plain": [
       "<Figure size 432x288 with 0 Axes>"
      ]
     },
     "metadata": {},
     "output_type": "display_data"
    },
    {
     "name": "stdout",
     "output_type": "stream",
     "text": [
      "Saint Bernard : 0.970000\n",
      "Beagle : 0.960000\n",
      "American bulldog : 0.950000\n",
      "Basset hound : 0.950000\n",
      "Newfoundland : 0.950000\n",
      "Leonberger : 0.930000\n",
      "Japanese chin : 0.920000\n",
      "Pug : 0.920000\n",
      "English setter : 0.910000\n",
      "English cocker spaniel : 0.900000\n",
      "German shorthair : 0.900000\n",
      "Pyrenees : 0.900000\n",
      "Havanese : 0.900000\n",
      "Boxer : 0.898990\n",
      "Keeshond : 0.898990\n",
      "Pit bull : 0.890000\n",
      "Staffordshire terrier : 0.887640\n",
      "Pinscher : 0.870000\n",
      "Samoyed : 0.820000\n",
      "Shiba inu : 0.820000\n",
      "Wheaten terrier : 0.820000\n",
      "Scottish terrier : 0.818182\n",
      "Yorkshire terrier : 0.808081\n",
      "Pomeranian : 0.800000\n",
      "Egyptian mau : 0.793814\n",
      "British shorthair : 0.770000\n",
      "Chihuahua : 0.690000\n",
      "Maine coon : 0.680000\n",
      "Russian blue : 0.680000\n",
      "Sphynx : 0.560000\n",
      "Abyssinian : 0.555556\n",
      "Persian : 0.520000\n",
      "Birman : 0.510000\n",
      "Bengal : 0.470000\n",
      "Siamese : 0.430000\n",
      "Ragdoll : 0.400000\n",
      "Bombay : 0.340909\n"
     ]
    }
   ],
   "source": [
    "ab_preds = ypred[0:99]\n",
    "bull_preds = ypred[99:199]\n",
    "pit_preds = ypred[199:299]\n",
    "basset_preds = ypred[299:399]\n",
    "beagle_preds = ypred[399:499]\n",
    "bengal_preds = ypred[499:599]\n",
    "bir_preds = ypred[599:699]\n",
    "bomb_preds = ypred[699:787]\n",
    "boxer_preds = ypred[787:886]\n",
    "bshort_preds = ypred[886:986]\n",
    "chi_preds = ypred[986:1086]\n",
    "mau_preds = ypred[1086:1183]\n",
    "span_preds = ypred[1183:1283]\n",
    "setter_preds = ypred[1283:1383]\n",
    "gshort_preds = ypred[1383:1483]\n",
    "pyr_preds = ypred[1483:1583]\n",
    "hava_preds = ypred[1583:1683]\n",
    "chin_preds = ypred[1683:1783]\n",
    "kee_preds = ypred[1783:1882]\n",
    "leon_preds = ypred[1882:1982]\n",
    "coon_preds = ypred[1982:2082]\n",
    "pinsch_preds = ypred[2082:2182]\n",
    "new_preds = ypred[2182:2282]\n",
    "pers_preds = ypred[2282:2382]\n",
    "pom_preds = ypred[2382:2482]\n",
    "pug_preds = ypred[2482:2582]\n",
    "rag_preds = ypred[2582:2682]\n",
    "russ_preds = ypred[2682:2782]\n",
    "bern_preds = ypred[2782:2882]\n",
    "samo_preds = ypred[2882:2982]\n",
    "terr_preds = ypred[2982:3081]\n",
    "shiba_preds = ypred[3081:3181]\n",
    "siam_preds = ypred[3181:3281]\n",
    "sphynx_preds = ypred[3281:3381]\n",
    "staff_preds = ypred[3381:3470]\n",
    "wheat_preds = ypred[3470:3570]\n",
    "york_preds = ypred[3570:3670]\n",
    "img_names = test_labels['ImageID']\n",
    "\n",
    "preds_list = [ab_preds, bull_preds, pit_preds, basset_preds, beagle_preds, bengal_preds, bir_preds, bomb_preds, boxer_preds, \n",
    "              bshort_preds, chi_preds, mau_preds, span_preds, setter_preds, gshort_preds, pyr_preds, hava_preds, chin_preds,\n",
    "              kee_preds, leon_preds, coon_preds, pinsch_preds, new_preds, pers_preds, pom_preds, pug_preds, rag_preds, russ_preds,\n",
    "              bern_preds, samo_preds, terr_preds, shiba_preds, siam_preds, sphynx_preds, staff_preds, wheat_preds, york_preds]\n",
    "\n",
    "species_list = [0, 1, 1, 1, 1, 0, 0, 0, 1, 0, 1, 0, 1, 1, 1, 1, 1, 1, 1, 1, 0, 1, 1, 0, 1, 1, 0, 0, 1, 1, 1, 1, 0, 0, 1, 1, 1]\n",
    "\n",
    "breed_accs = []\n",
    "for i, breed in enumerate(preds_list):\n",
    "    wrong = 0\n",
    "    right = 0\n",
    "    true_class = species_list[i]\n",
    "    for j, p in enumerate(breed):\n",
    "        if p==true_class:\n",
    "            right += 1\n",
    "        else:\n",
    "            wrong +=1\n",
    "    breed_accs.append(right/(right+wrong))\n",
    "\n",
    "    \n",
    "breed_names = ['Abyssinian', 'American bulldog', 'Pit bull', 'Basset hound', 'Beagle', 'Bengal', 'Birman', 'Bombay', 'Boxer',\n",
    "               'British shorthair', 'Chihuahua', 'Egyptian mau', 'English cocker spaniel', 'English setter', 'German shorthair',\n",
    "               'Pyrenees', 'Havanese', 'Japanese chin', 'Keeshond', 'Leonberger', 'Maine coon', 'Pinscher', 'Newfoundland',\n",
    "               'Persian', 'Pomeranian', 'Pug', 'Ragdoll', 'Russian blue', 'Saint Bernard', 'Samoyed', 'Scottish terrier',\n",
    "               'Shiba inu', 'Siamese', 'Sphynx', 'Staffordshire terrier', 'Wheaten terrier', 'Yorkshire terrier']\n",
    "\n",
    "indices = []\n",
    "\n",
    "copy = breed_accs.copy()\n",
    "\n",
    "copy.sort(reverse=True)\n",
    "\n",
    "scopy = []\n",
    "\n",
    "for i, p in enumerate(copy):\n",
    "    indices.append(breed_accs.index(p))\n",
    "    breed_accs[indices[len(indices)-1]] = -1\n",
    "\n",
    "bcopy = []\n",
    "for i in indices:\n",
    "    bcopy.append(breed_names[i])\n",
    "    scopy.append(species_list[i])\n",
    "\n",
    "    \n",
    "species_list_str = []\n",
    "\n",
    "for s in scopy:\n",
    "    if s==0:\n",
    "        species_list_str.append('Cat')\n",
    "    else:\n",
    "        species_list_str.append('Dog')\n",
    "\n",
    "plt.plot(species_list_str, copy, 'bo', label='')\n",
    "plt.title('Accuracy by breed')\n",
    "plt.legend()\n",
    "plt.figure()\n",
    "plt.show()\n",
    "\n",
    "for i,b in enumerate(bcopy):\n",
    "    print(f\"{b} : {copy[i]:4f}\")"
   ]
  },
  {
   "cell_type": "markdown",
   "id": "a7c0ca77",
   "metadata": {},
   "source": [
    "# Discussion and Analysis"
   ]
  },
  {
   "cell_type": "markdown",
   "id": "19a88929",
   "metadata": {},
   "source": [
    "The initial batch size was $64$, and number of epochs was $20$. I increased these as time went on, but the improvements to accuracy based on these hyperparameters alone were limited. I also began by resizing the images to $100 \\times 100$ pixels, but I decided that might not provide sufficient information for a good model performance. However, when I increased this to $200 \\times 200$, I found that I ran out of memory so I settled on $150 \\times 150$.\n",
    "\n",
    "I also observed signs of overfitting, so I added dropout layers to my model architecture.\n",
    "\n",
    "My model demonstrated higher test accuracy on dogs than on cats, and since I had more dogs than cats early in the dataset, I figured this might have been caused by a too-high learning rate. I reduced the learning rate by half. This did not improve the model's performance, however."
   ]
  },
  {
   "cell_type": "markdown",
   "id": "fba0a8f2",
   "metadata": {},
   "source": [
    "# Conclusion"
   ]
  },
  {
   "cell_type": "markdown",
   "id": "daf1d586",
   "metadata": {},
   "source": [
    "In summary, in this project I trained a convolutional neural network, using the TensorFlow and Keras libraries in Python, to classify images of pets as either a dog or a cat, making this a binary classification problem.\n",
    "\n",
    "I obtained the dataset and performed basic analysis and cleaning, and made some changes to how I processed the data to improve performance of the model.\n",
    "\n",
    " I then conducted an iterative process to improve the model by adding, removing, or modifying layers and adjusting hyperparameters, with the ultimate goal of maximizing accuracy. Accuracy did improve over the course of this process, but not as much as I had hoped.\n",
    "\n",
    "Some of the failings of my model might be related to the data I used or how I processed it. I still would like to attempt training the model on more data, and observe any changes or improvements.\n",
    "\n",
    "Although my model does not predict species as well as other related models that I studied (final test accuracy was 78.33%), I found this to be a valuable learning experience as to what works and what does not work when it comes to convolutional neural networks, and machine learning in general."
   ]
  },
  {
   "cell_type": "markdown",
   "id": "2fc2af49",
   "metadata": {},
   "source": [
    "# References"
   ]
  },
  {
   "cell_type": "markdown",
   "id": "708cf5de",
   "metadata": {},
   "source": [
    "1. Parki, O.M., Vedaldi, A., Zisserman, A., & Jawahar, C.V. (2012). Oxford-IIIT Pet Dataset. [Data set]. University of Oxford.\n",
    "2. DataCamp. (2017, December 5). Convolutional Neural Networks in Python with Keras. DataCamp. Retrieved August 1, 2022, from https://www.datacamp.com/tutorial/convolutional-neural-networks-python "
   ]
  },
  {
   "cell_type": "code",
   "execution_count": null,
   "id": "10187292",
   "metadata": {},
   "outputs": [],
   "source": []
  }
 ],
 "metadata": {
  "kernelspec": {
   "display_name": "Python 3",
   "language": "python",
   "name": "python3"
  },
  "language_info": {
   "codemirror_mode": {
    "name": "ipython",
    "version": 3
   },
   "file_extension": ".py",
   "mimetype": "text/x-python",
   "name": "python",
   "nbconvert_exporter": "python",
   "pygments_lexer": "ipython3",
   "version": "3.8.8"
  }
 },
 "nbformat": 4,
 "nbformat_minor": 5
}
